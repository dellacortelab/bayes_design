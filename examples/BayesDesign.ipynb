{
  "cells": [
    {
      "cell_type": "markdown",
      "metadata": {
        "id": "UKyDYXzUWJA9"
      },
      "source": [
        "## BayesDesign\n",
        "\n",
        "Protein design for stability and conformational specificity, maximizing the p(structure|sequence) objective.\n",
        "\n",
        "\n",
        "<figure>\n",
        "<img src=\"https://github.com/dellacortelab/bayes_design/blob/master/data/figs/bayes_design.png?raw=true\" width=\"700\">\n",
        "</figure>\n",
        "\n",
        "\n",
        "\n",
        "[Stern J., Free T., Stern K., Gardiner S., Dalley N., Bundy B., Price J., Wingate D., Della Corte D. A probabilistic view of protein stability, conformational specificity, and design](https://www.biorxiv.org/content/10.1101/2022.12.28.521825v1?rss=1)"
      ]
    },
    {
      "cell_type": "markdown",
      "metadata": {
        "id": "3E2yBF8T40gh"
      },
      "source": [
        "### Installs"
      ]
    },
    {
      "cell_type": "code",
      "execution_count": null,
      "metadata": {
        "id": "9L88lds741yc"
      },
      "outputs": [],
      "source": [
        "!git clone https://github.com/dellacortelab/bayes_design.git\n",
        "!pip install transformers==4.20.1 tokenizers==0.12.1 sentencepiece==0.1.96"
      ]
    },
    {
      "cell_type": "markdown",
      "metadata": {
        "id": "9Vx386H945fC"
      },
      "source": [
        "### Use backbone_type pdb_id and enter a pdb_id, then hit `Runtime` -> `Run all`. Beam search with 128 beams should take about 1-4s x num_residues.\n",
        "\n",
        "Optionally, also set the `fixed_positions` variable, setting the positions in the sequence for which you want to preserve the original amino acids.\n",
        "\n",
        "To provide your own .pdb file with a custom backbone, use the backbone_type option \"custom\" and upload your .pdb file below the cell."
      ]
    },
    {
      "cell_type": "code",
      "source": [
        "fixed_positions = []\n",
        "# # Set ranges of fixed positions, like below\n",
        "# fixed_positions = [10, 12, 34, 34]"
      ],
      "metadata": {
        "id": "PJ7F3rvKRTiA"
      },
      "execution_count": 3,
      "outputs": []
    },
    {
      "cell_type": "code",
      "execution_count": null,
      "metadata": {
        "cellView": "form",
        "id": "roBE5RFMWZIk"
      },
      "outputs": [],
      "source": [
        "from google.colab import files\n",
        "import os\n",
        "\n",
        "backbone_type = 'pdb_id' #@param [\"pdb_id\", \"custom\"]\n",
        "#@markdown - Either provide a PDB id which is valid in the protein data bank, or upload a custom .pdb file when prompted below (after clicking `\"Runtime -> Run all\"`)\n",
        "\n",
        "pdb_id = '6MRR' #@param {type:\"string\"}\n",
        "#@markdown - The `pdb_id` argument is only necessary if `backbone_type == 'pdb'`\n",
        "\n",
        "if backbone_type == \"pdb\":\n",
        "  pass\n",
        "elif backbone_type == \"custom\":\n",
        "    custom_pdb_path = f\"bayes_design/data\"\n",
        "    os.makedirs(custom_pdb_path, exist_ok=True)\n",
        "    uploaded = files.upload()\n",
        "    pdb_file = list(uploaded.keys())[0]\n",
        "    os.rename(pdb_file, os.path.join(custom_pdb_path, pdb_file))\n",
        "    pdb_id = os.path.splitext(pdb_file)[0]\n",
        "\n",
        "model_name = \"bayes_design\" #@param [\"bayes_design\", \"protein_mpnn\", \"xlnet\"]\n",
        "#@markdown - \"none\" = no template information is used, \"pdb70\" = detect templates in pdb70, \"custom\" - upload and search own templates (PDB or mmCIF format, see [notes below](#custom_templates))\n",
        "decode_order = \"n_to_c\" #@param [\"n_to_c\", \"proxmity\", \"reverse_proximity\"]\n",
        "#@markdown - \"n_to_c\" = decode from N-terminus to C-terminus\n",
        "#@markdown - \"proximity\" = decode amino acids near fixed amino acids first\n",
        "#@markdown - \"reverse_proximity\" = decode amino acids far from fixed amino acids first\n",
        "decode_algorithm = \"greedy\" #@param [\"beam\", \"greedy\", \"random\", \"sample\"]\n",
        "#@markdown - \"beam\" = beam search\n",
        "#@markdown - \"greedy\" = greedy search\n",
        "#@markdown - \"sample\" = sample decoded tokens according to probability\n",
        "#@markdown - \"random\" = random decoding\n",
        "n_beams = 128 #@param {type:\"integer\"}\n",
        "#@markdown - number of beams, if using `beam` decode_algorithm\n",
        "redesign = False #@param {type:\"boolean\"}\n",
        "#@markdown - If `redesign == True`, we use the sequence in the provided pdb file as bidirectional context for each predicted amino acid. Otherwise (by default), we predict a sequence from only the provided backbone (and fixed amino acids)."
      ]
    },
    {
      "cell_type": "code",
      "execution_count": null,
      "metadata": {
        "id": "acuBbCF6BjeL"
      },
      "outputs": [],
      "source": [
        "import os\n",
        "from subprocess import Popen, PIPE\n",
        "\n",
        "fps = [str(pos) for pos in fixed_positions]\n",
        "cmd = ['python3', 'design.py', '--model_name', f'{model_name}', '--protein_id', f'{pdb_id}', '--decode_order', f'{decode_order}', '--decode_algorithm', f'{decode_algorithm}', '--n_beams', f'{n_beams}', \"--fixed_positions\", *fps]\n",
        "if redesign:\n",
        "    cmd += ['--redesign']\n",
        "print(\"Command:\")\n",
        "print(\" \".join(cmd))\n",
        "process = Popen(cmd, stdout=PIPE, stderr=PIPE, cwd='/content/bayes_design')\n",
        "stdout, stderr = process.communicate()\n",
        "print(stdout.decode('utf-8'))\n",
        "print(stderr.decode('utf-8'))"
      ]
    },
    {
      "cell_type": "markdown",
      "metadata": {
        "id": "oghab-R-GWx9"
      },
      "source": [
        "To verify your designed sequence, try folding it using [AlphaFold](https://colab.research.google.com/github/sokrypton/ColabFold/blob/main/AlphaFold2.ipynb) or [ESMFold](https://esmatlas.com/resources/fold/result?fasta_header=%3Ecd1a&sequence=KTPEWWWPIINKWTMETMYYNTGTNEVTKEKPIG)"
      ]
    },
    {
      "cell_type": "code",
      "source": [],
      "metadata": {
        "id": "78JNLrBlcQeK"
      },
      "execution_count": 4,
      "outputs": []
    }
  ],
  "metadata": {
    "accelerator": "GPU",
    "colab": {
      "collapsed_sections": [
        "3E2yBF8T40gh"
      ],
      "provenance": []
    },
    "gpuClass": "standard",
    "kernelspec": {
      "display_name": "Python 3",
      "name": "python3"
    },
    "language_info": {
      "name": "python"
    }
  },
  "nbformat": 4,
  "nbformat_minor": 0
}