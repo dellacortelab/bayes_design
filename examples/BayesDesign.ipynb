{
  "cells": [
    {
      "cell_type": "markdown",
      "metadata": {
        "id": "UKyDYXzUWJA9"
      },
      "source": [
        "## BayesDesign\n",
        "\n",
        "Protein design for stability and conformational specificity, maximizing the p(structure|sequence) objective.\n",
        "\n",
        "\n",
        "<figure>\n",
        "<img src=\"https://github.com/dellacortelab/bayes_design/blob/master/data/figs/bayes_design.png?raw=true\" width=\"700\">\n",
        "</figure>\n",
        "\n",
        "\n",
        "\n",
        "[Stern J., Free T., Stern K., Gardiner S., Dalley N., Bundy B., Price J., Wingate D., Della Corte D. A probabilistic view of protein stability, conformational specificity, and design](https://www.biorxiv.org/content/10.1101/2022.12.28.521825v1?rss=1)"
      ]
    },
    {
      "cell_type": "markdown",
      "metadata": {
        "id": "3E2yBF8T40gh"
      },
      "source": [
        "### Installs"
      ]
    },
    {
      "cell_type": "code",
      "execution_count": 87,
      "metadata": {
        "colab": {
          "base_uri": "https://localhost:8080/"
        },
        "id": "9L88lds741yc",
        "outputId": "d0a33176-7bff-4139-e3dd-152d6522bce0"
      },
      "outputs": [
        {
          "output_type": "stream",
          "name": "stdout",
          "text": [
            "fatal: destination path 'bayes_design' already exists and is not an empty directory.\n",
            "Looking in indexes: https://pypi.org/simple, https://us-python.pkg.dev/colab-wheels/public/simple/\n",
            "Requirement already satisfied: transformers==4.20.1 in /usr/local/lib/python3.8/dist-packages (4.20.1)\n",
            "Requirement already satisfied: tokenizers==0.12.1 in /usr/local/lib/python3.8/dist-packages (0.12.1)\n",
            "Requirement already satisfied: sentencepiece==0.1.96 in /usr/local/lib/python3.8/dist-packages (0.1.96)\n",
            "Requirement already satisfied: pyyaml>=5.1 in /usr/local/lib/python3.8/dist-packages (from transformers==4.20.1) (6.0)\n",
            "Requirement already satisfied: tqdm>=4.27 in /usr/local/lib/python3.8/dist-packages (from transformers==4.20.1) (4.64.1)\n",
            "Requirement already satisfied: numpy>=1.17 in /usr/local/lib/python3.8/dist-packages (from transformers==4.20.1) (1.21.6)\n",
            "Requirement already satisfied: filelock in /usr/local/lib/python3.8/dist-packages (from transformers==4.20.1) (3.8.2)\n",
            "Requirement already satisfied: packaging>=20.0 in /usr/local/lib/python3.8/dist-packages (from transformers==4.20.1) (21.3)\n",
            "Requirement already satisfied: huggingface-hub<1.0,>=0.1.0 in /usr/local/lib/python3.8/dist-packages (from transformers==4.20.1) (0.11.1)\n",
            "Requirement already satisfied: regex!=2019.12.17 in /usr/local/lib/python3.8/dist-packages (from transformers==4.20.1) (2022.6.2)\n",
            "Requirement already satisfied: requests in /usr/local/lib/python3.8/dist-packages (from transformers==4.20.1) (2.23.0)\n",
            "Requirement already satisfied: typing-extensions>=3.7.4.3 in /usr/local/lib/python3.8/dist-packages (from huggingface-hub<1.0,>=0.1.0->transformers==4.20.1) (4.4.0)\n",
            "Requirement already satisfied: pyparsing!=3.0.5,>=2.0.2 in /usr/local/lib/python3.8/dist-packages (from packaging>=20.0->transformers==4.20.1) (3.0.9)\n",
            "Requirement already satisfied: certifi>=2017.4.17 in /usr/local/lib/python3.8/dist-packages (from requests->transformers==4.20.1) (2022.12.7)\n",
            "Requirement already satisfied: urllib3!=1.25.0,!=1.25.1,<1.26,>=1.21.1 in /usr/local/lib/python3.8/dist-packages (from requests->transformers==4.20.1) (1.24.3)\n",
            "Requirement already satisfied: chardet<4,>=3.0.2 in /usr/local/lib/python3.8/dist-packages (from requests->transformers==4.20.1) (3.0.4)\n",
            "Requirement already satisfied: idna<3,>=2.5 in /usr/local/lib/python3.8/dist-packages (from requests->transformers==4.20.1) (2.10)\n"
          ]
        }
      ],
      "source": [
        "!git clone https://github.com/dellacortelab/bayes_design.git\n",
        "!pip install transformers==4.20.1 tokenizers==0.12.1 sentencepiece==0.1.96"
      ]
    },
    {
      "cell_type": "markdown",
      "metadata": {
        "id": "9Vx386H945fC"
      },
      "source": [
        "### Use backbone_type pdb_id and enter a pdb_id, then hit `Runtime` -> `Run all`. Beam search with 128 beams should take about 1-4s x num_residues.\n",
        "\n",
        "Optionally, also set the `fixed_positions` variable, setting the positions in the sequence for which you want to preserve the original amino acids."
      ]
    },
    {
      "cell_type": "code",
      "source": [
        "fixed_positions = []\n",
        "# # Set ranges of fixed positions, like below\n",
        "# fixed_positions = [10, 12, 34, 34]"
      ],
      "metadata": {
        "id": "PJ7F3rvKRTiA"
      },
      "execution_count": 88,
      "outputs": []
    },
    {
      "cell_type": "code",
      "execution_count": 89,
      "metadata": {
        "cellView": "form",
        "id": "roBE5RFMWZIk"
      },
      "outputs": [],
      "source": [
        "from google.colab import files\n",
        "import os\n",
        "\n",
        "backbone_type = 'pdb_id' #@param [\"pdb_id\", \"custom\"]\n",
        "#@markdown - Either provide a PDB id which is valid in the protein data bank, or upload a custom .pdb file when prompted below (after clicking `\"Runtime -> Run all\"`)\n",
        "\n",
        "pdb_id = '6MRR' #@param {type:\"string\"}\n",
        "#@markdown - The `pdb_id` argument is only necessary if `backbone_type == 'pdb'`\n",
        "\n",
        "if backbone_type == \"pdb\":\n",
        "  pass\n",
        "elif backbone_type == \"custom\":\n",
        "    custom_pdb_path = f\"bayes_design/data\"\n",
        "    os.makedirs(custom_pdb_path, exist_ok=True)\n",
        "    uploaded = files.upload()\n",
        "    pdb_file = list(uploaded.keys())[0]\n",
        "    os.rename(pdb_file, os.path.join(custom_pdb_path, pdb_file))\n",
        "    pdb_id = os.path.splitext(pdb_file)[0]\n",
        "\n",
        "model_name = \"bayes_design\" #@param [\"bayes_design\", \"protein_mpnn\", \"xlnet\"]\n",
        "#@markdown - \"none\" = no template information is used, \"pdb70\" = detect templates in pdb70, \"custom\" - upload and search own templates (PDB or mmCIF format, see [notes below](#custom_templates))\n",
        "decode_order = \"n_to_c\" #@param [\"n_to_c\", \"proxmity\", \"reverse_proximity\"]\n",
        "#@markdown - \"n_to_c\" = decode from N-terminus to C-terminus\n",
        "#@markdown - \"proximity\" = decode amino acids near fixed amino acids first\n",
        "#@markdown - \"reverse_proximity\" = decode amino acids far from fixed amino acids first\n",
        "decode_algorithm = \"beam\" #@param [\"beam\", \"greedy\", \"random\", \"sample\"]\n",
        "#@markdown - \"beam\" = beam search\n",
        "#@markdown - \"greedy\" = greedy search\n",
        "#@markdown - \"sample\" = sample decoded tokens according to probability\n",
        "#@markdown - \"random\" = random decoding\n",
        "n_beams = 128 #@param {type:\"integer\"}\n",
        "#@markdown - number of beams, if using `beam` decode_algorithm\n",
        "redesign = False #@param {type:\"boolean\"}\n",
        "#@markdown - If `redesign == True`, we use the sequence in the provided pdb file as bidirectional context for each predicted amino acid. Otherwise (by default), we predict a sequence from only the provided backbone (and fixed amino acids)."
      ]
    },
    {
      "cell_type": "code",
      "execution_count": 90,
      "metadata": {
        "colab": {
          "base_uri": "https://localhost:8080/"
        },
        "id": "acuBbCF6BjeL",
        "outputId": "bea59878-6363-4a46-ae24-c562d3dfb641"
      },
      "outputs": [
        {
          "output_type": "stream",
          "name": "stdout",
          "text": [
            "Command:\n",
            "python3 design.py --model_name bayes_design --protein_id 6MRR --decode_order n_to_c --decode_algorithm beam --n_beams 128 --fixed_positions\n",
            "Number of edges: 48\n",
            "Training noise level: 0.3\n",
            "Model loaded\n",
            "j: 0\n",
            "j: 1\n",
            "j: 2\n",
            "j: 3\n",
            "j: 4\n",
            "j: 5\n",
            "j: 6\n",
            "j: 7\n",
            "j: 8\n",
            "j: 9\n",
            "j: 10\n",
            "j: 11\n",
            "j: 12\n",
            "j: 13\n",
            "j: 14\n",
            "j: 15\n",
            "j: 16\n",
            "j: 17\n",
            "j: 18\n",
            "j: 19\n",
            "j: 20\n",
            "j: 21\n",
            "j: 22\n",
            "j: 23\n",
            "j: 24\n",
            "j: 25\n",
            "j: 26\n",
            "j: 27\n",
            "j: 28\n",
            "j: 29\n",
            "j: 30\n",
            "j: 31\n",
            "j: 32\n",
            "j: 33\n",
            "j: 34\n",
            "j: 35\n",
            "j: 36\n",
            "j: 37\n",
            "j: 38\n",
            "j: 39\n",
            "j: 40\n",
            "j: 41\n",
            "j: 42\n",
            "j: 43\n",
            "j: 44\n",
            "j: 45\n",
            "j: 46\n",
            "j: 47\n",
            "j: 48\n",
            "j: 49\n",
            "j: 50\n",
            "j: 51\n",
            "j: 52\n",
            "j: 53\n",
            "j: 54\n",
            "j: 55\n",
            "j: 56\n",
            "j: 57\n",
            "j: 58\n",
            "j: 59\n",
            "j: 60\n",
            "j: 61\n",
            "j: 62\n",
            "j: 63\n",
            "j: 64\n",
            "j: 65\n",
            "j: 66\n",
            "j: 67\n",
            "Original sequence\n",
            "GWSTELEKHREELKEFLKKEGITNVEIRIDNGRLEVRVEGGTERLKRFLEELRQKLEKKGYTVDIKIE\n",
            "Masked sequence (tokens to predict are indicated by a dash)\n",
            "--------------------------------------------------------------------\n",
            "Designed sequence\n",
            "SMDPKLEKVKQELEDFLKKKKVNNVKISIKDGCLPIECPGCDQETQDYLIIVKQKLTSEGYCVWITIS\n",
            "\n",
            "\n"
          ]
        }
      ],
      "source": [
        "import os\n",
        "from subprocess import Popen, PIPE\n",
        "\n",
        "os.chdir('/content/bayes_design')\n",
        "fps = [str(pos) for pos in fixed_positions]\n",
        "cmd = ['python3', 'design.py', '--model_name', f'{model_name}', '--protein_id', f'{pdb_id}', '--decode_order', f'{decode_order}', '--decode_algorithm', f'{decode_algorithm}', '--n_beams', f'{n_beams}', \"--fixed_positions\", *fps]\n",
        "if redesign:\n",
        "    cmd += ['--redesign']\n",
        "print(\"Command:\")\n",
        "print(\" \".join(cmd))\n",
        "process = Popen(cmd, stdout=PIPE, stderr=PIPE)\n",
        "stdout, stderr = process.communicate()\n",
        "print(stdout.decode('utf-8'))\n",
        "print(stderr.decode('utf-8'))"
      ]
    },
    {
      "cell_type": "markdown",
      "metadata": {
        "id": "oghab-R-GWx9"
      },
      "source": [
        "To verify your designed sequence, try folding it using [AlphaFold](https://colab.research.google.com/github/sokrypton/ColabFold/blob/main/AlphaFold2.ipynb) or [ESMFold](https://esmatlas.com/resources/fold/result?fasta_header=%3Ecd1a&sequence=KTPEWWWPIINKWTMETMYYNTGTNEVTKEKPIG)"
      ]
    },
    {
      "cell_type": "code",
      "source": [],
      "metadata": {
        "id": "78JNLrBlcQeK"
      },
      "execution_count": 90,
      "outputs": []
    }
  ],
  "metadata": {
    "accelerator": "GPU",
    "colab": {
      "collapsed_sections": [
        "3E2yBF8T40gh"
      ],
      "provenance": []
    },
    "gpuClass": "standard",
    "kernelspec": {
      "display_name": "Python 3",
      "name": "python3"
    },
    "language_info": {
      "name": "python"
    }
  },
  "nbformat": 4,
  "nbformat_minor": 0
}