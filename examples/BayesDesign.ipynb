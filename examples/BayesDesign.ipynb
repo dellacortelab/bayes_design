{
  "cells": [
    {
      "cell_type": "markdown",
      "metadata": {
        "id": "UKyDYXzUWJA9"
      },
      "source": [
        "## BayesDesign\n",
        "\n",
        "Protein design for stability and conformational specificity, maximizing the p(structure|sequence) objective.\n",
        "\n",
        "\n",
        "<figure>\n",
        "<img src=\"https://github.com/dellacortelab/bayes_design/blob/master/data/figs/bayes_design.png?raw=true\" width=\"700\">\n",
        "</figure>\n",
        "\n",
        "\n",
        "\n",
        "[Stern J., Free T., Stern K., Gardiner S., Dalley N., Bundy B., Price J., Wingate D., Della Corte D. A probabilistic view of protein stability, conformational specificity, and design](https://www.biorxiv.org/content/10.1101/2022.12.28.521825v1?rss=1)"
      ]
    },
    {
      "cell_type": "markdown",
      "metadata": {
        "id": "3E2yBF8T40gh"
      },
      "source": [
        "### Installs"
      ]
    },
    {
      "cell_type": "code",
      "execution_count": null,
      "metadata": {
        "id": "9L88lds741yc"
      },
      "outputs": [],
      "source": [
        "!git clone https://github.com/dellacortelab/bayes_design.git\n",
        "!pip install transformers==4.20.1 tokenizers==0.12.1 sentencepiece==0.1.96 biopython==1.80 matplotlib==3.6.3 numpy==1.21.2 sentencepiece==0.1.96 tr-rosetta-pytorch==0.0.3"
      ]
    },
    {
      "cell_type": "markdown",
      "metadata": {
        "id": "9Vx386H945fC"
      },
      "source": [
        "### Use backbone_type pdb_id and enter a pdb_id, then hit `Runtime` -> `Run all`. Beam search with 128 beams should take about 1-4s x num_residues.\n",
        "\n",
        "Optionally, also set the `fixed_positions` variable, setting the positions in the sequence for which you want to preserve the original amino acids.\n",
        "\n",
        "To provide your own .pdb file with a custom backbone, use the backbone_type option \"custom\" and upload your .pdb file below the cell."
      ]
    },
    {
      "cell_type": "code",
      "source": [
        "fixed_positions = []\n",
        "# # Set ranges of fixed positions, like below\n",
        "# fixed_positions = [10, 12, 34, 34]"
      ],
      "metadata": {
        "id": "PJ7F3rvKRTiA"
      },
      "execution_count": 5,
      "outputs": []
    },
    {
      "cell_type": "code",
      "execution_count": null,
      "metadata": {
        "cellView": "form",
        "id": "roBE5RFMWZIk"
      },
      "outputs": [],
      "source": [
        "from google.colab import files\n",
        "import os\n",
        "\n",
        "backbone_type = 'pdb_id' #@param [\"pdb_id\", \"custom\"]\n",
        "#@markdown - Either provide a PDB id which is valid in the protein data bank, or upload a custom .pdb file when prompted below (after clicking `\"Runtime -> Run all\"`)\n",
        "\n",
        "pdb_id = '6MRR' #@param {type:\"string\"}\n",
        "#@markdown - The `pdb_id` argument is only necessary if `backbone_type == 'pdb'`\n",
        "\n",
        "if backbone_type == \"pdb\":\n",
        "    pass\n",
        "elif backbone_type == \"custom\":\n",
        "    custom_pdb_path = f\"bayes_design/data\"\n",
        "    uploaded = files.upload()\n",
        "    pdb_file = list(uploaded.keys())[0]\n",
        "    try:\n",
        "        os.rename(pdb_file, os.path.join(custom_pdb_path, pdb_file))\n",
        "    except:\n",
        "        raise ValueError(\"The data location does not yet exist. Make sure to run using Runtime->Run All so that the BayesDesign repository is downloaded before running BayesDesign.\")\n",
        "    pdb_id = os.path.splitext(pdb_file)[0]\n",
        "\n",
        "model_name = \"bayes_design\" #@param [\"bayes_design\", \"protein_mpnn\", \"xlnet\"]\n",
        "#@markdown - \"none\" = no template information is used, \"pdb70\" = detect templates in pdb70, \"custom\" - upload and search own templates (PDB or mmCIF format, see [notes below](#custom_templates))\n",
        "decode_order = \"n_to_c\" #@param [\"n_to_c\", \"proxmity\", \"reverse_proximity\"]\n",
        "#@markdown - \"n_to_c\" = decode from N-terminus to C-terminus\n",
        "#@markdown - \"proximity\" = decode amino acids near fixed amino acids first\n",
        "#@markdown - \"reverse_proximity\" = decode amino acids far from fixed amino acids first\n",
        "decode_algorithm = \"greedy\" #@param [\"beam\", \"greedy\", \"random\", \"sample\"]\n",
        "#@markdown - \"beam\" = beam search\n",
        "#@markdown - \"greedy\" = greedy search\n",
        "#@markdown - \"sample\" = sample decoded tokens according to probability\n",
        "#@markdown - \"random\" = random decoding\n",
        "n_beams = 128 #@param {type:\"integer\"}\n",
        "#@markdown - number of beams, if using `beam` decode_algorithm\n",
        "redesign = False #@param {type:\"boolean\"}\n",
        "#@markdown - If `redesign == True`, we use the sequence in the provided pdb file as bidirectional context for each predicted amino acid. Otherwise (by default), we predict a sequence from only the provided backbone (and fixed amino acids)."
      ]
    },
    {
      "cell_type": "code",
      "execution_count": 7,
      "metadata": {
        "id": "acuBbCF6BjeL",
        "colab": {
          "base_uri": "https://localhost:8080/"
        },
        "outputId": "4bc78e7e-b8a0-4f99-ac39-7d7bbb41f244"
      },
      "outputs": [
        {
          "output_type": "stream",
          "name": "stdout",
          "text": [
            "Command:\n",
            "python3 design.py --model_name bayes_design --protein_id 5spy --decode_order n_to_c --decode_algorithm greedy --n_beams 128 --fixed_positions\n",
            "Number of edges: 48\n",
            "Training noise level: 0.3\n",
            "Model loaded\n",
            "log probs: [-1.236896, -1.2684696, -1.9008317, -0.78005296, -1.2240908, -0.7532021, -0.81568587, -1.6222931, -0.9081921, -0.23250912, -0.790841, -1.4620154, -0.31528267, -0.7399889, -0.82569623, -0.7975645, -0.29589078, -1.2777665, -0.35919216, -0.6599786, -0.8074406, -0.12804621, -0.80367726, -1.114225, -0.27306086, -0.4545215, -1.0821491, -0.5145309, -1.2945838, -0.10899188, -1.1559544, -1.4512457, -0.4468466, -0.684662, -0.832306, -1.2329624, -0.79617566, -0.7353839, -0.87551653, -1.6532668, -0.47823644, -1.968911, -0.51315695, -1.5983571, -1.6825154, -0.23336151, -1.1100322, -0.46529433, -0.16719462, -1.1090147, -1.3944106, -0.16561034, -1.7728059, -0.4561719, -0.3920403, -0.9691576, -0.632465, -1.2351562, -0.7792102, -0.097706266, -1.3434926, -1.0244231, -0.36187696, -1.2437744, -1.8095925, -1.4443922, -1.3342297, -1.7878363, -1.7095649, -0.89046013, -0.42053702, -1.2156875, -0.44825417, -1.3855351, -0.555184, -0.063880384, -0.3296637, -1.0667137, -0.89512444, -1.4675379, -0.7337437, -0.3577529, -0.38017622, -1.044741, -0.54098886, -0.20214562, -0.4732759, -1.11957, -0.683688, -1.2185392, -0.30654496, -0.8930363, -0.84075785, -0.33446118, -0.43820563, -0.106538825, -1.0907636, -2.002344, -1.4016764, -1.8131618, -0.3606409, -0.69877774, -0.6703932, -0.7952626, -1.5416633, -0.76030684, -0.4310725, -1.8807031, -1.6495337, -0.54616976, -0.63181394, -1.6405087, -1.1773181, -0.6998374, -0.12840644, -1.3946166, -1.2509377, -0.88535744, -1.4066509, -1.3555056, -0.67647356, -1.240806, -0.18902376, -0.8621634, -0.56043375, -0.69066286, -1.1573489, -0.35758215, -1.9713624, -0.78315806, -0.44306165, -1.0682861, -0.4226058, -0.5116311, -1.6165515, -1.6389247, -0.9907453, -0.496005, -1.857778, -1.3746645, -1.2540497, -1.6338089, -1.6476369, -0.38610697, -0.23650661, -1.150802, -1.3871374, -1.6271122, -0.50078845, -0.28512987, -0.80026275, -0.5249603, -0.9661191, -1.6644003, -1.1210059, -1.3390149, -1.8315668, -1.3193856, -0.34247893, -1.9070449, -1.9172283, -0.7234547, -1.2292173, -2.2609806, -1.4087518, -1.2404057, -1.8729643]\n",
            "log prob: -160.10574\n",
            "Original sequence\n",
            "VNSFSGYLKLTDNVYIKNADIVEEAKKVKPTVVVNAANVYLKHGGGVAGALNKATNNAMQVESDDYIATNGPLKVGGSCVLSGHNLAKHCLHVVGPNVNKGEDIQLLKSAYENFNQHEVLLAPLLSAGIFGADPIHSLRVCVDTVRTNVYLAVFDKNLYDKLVSSFL\n",
            "Masked sequence (tokens to predict are indicated by a dash)\n",
            "-----------------------------------------------------------------------------------------------------------------------------------------------------------------------\n",
            "Designed sequence\n",
            "SNKFTGFTQLTENVYIKHADLVELAKKYKPPVLVVNANRDLNLTSGDAGRINKATNGELQKECDKWVAKNGPLEVGGSVMLSGFNLAEKCLCVVPPDMRKGEDPALLRKACANLNKYPICLSPILGSGIFGMDPLECLRTMIETVKSQVYIAIRSKETYNRLLKEYK\n",
            "\n",
            "Downloading: 100%|██████████| 1.32k/1.32k [00:00<00:00, 1.12MB/s]\n",
            "Downloading: 100%|██████████| 1.53G/1.53G [00:35<00:00, 45.6MB/s]\n",
            "Downloading: 100%|██████████| 233k/233k [00:00<00:00, 3.07MB/s]\n",
            "\n"
          ]
        }
      ],
      "source": [
        "import os\n",
        "from subprocess import Popen, PIPE\n",
        "\n",
        "fps = [str(pos) for pos in fixed_positions]\n",
        "cmd = ['python3', 'design.py', '--model_name', f'{model_name}', '--protein_id', f'{pdb_id}', '--decode_order', f'{decode_order}', '--decode_algorithm', f'{decode_algorithm}', '--n_beams', f'{n_beams}', \"--fixed_positions\", *fps]\n",
        "if redesign:\n",
        "    cmd += ['--redesign']\n",
        "print(\"Command:\")\n",
        "print(\" \".join(cmd))\n",
        "process = Popen(cmd, stdout=PIPE, stderr=PIPE, cwd='/content/bayes_design')\n",
        "stdout, stderr = process.communicate()\n",
        "print(stdout.decode('utf-8'))\n",
        "print(stderr.decode('utf-8'))"
      ]
    },
    {
      "cell_type": "markdown",
      "metadata": {
        "id": "oghab-R-GWx9"
      },
      "source": [
        "To verify your designed sequence, try folding it using [AlphaFold](https://colab.research.google.com/github/sokrypton/ColabFold/blob/main/AlphaFold2.ipynb) or [ESMFold](https://esmatlas.com/resources/fold/result?fasta_header=%3Ecd1a&sequence=KTPEWWWPIINKWTMETMYYNTGTNEVTKEKPIG)"
      ]
    },
    {
      "cell_type": "code",
      "source": [],
      "metadata": {
        "id": "78JNLrBlcQeK"
      },
      "execution_count": 7,
      "outputs": []
    }
  ],
  "metadata": {
    "accelerator": "GPU",
    "colab": {
      "collapsed_sections": [
        "3E2yBF8T40gh"
      ],
      "provenance": []
    },
    "gpuClass": "standard",
    "kernelspec": {
      "display_name": "Python 3",
      "name": "python3"
    },
    "language_info": {
      "name": "python"
    }
  },
  "nbformat": 4,
  "nbformat_minor": 0
}
